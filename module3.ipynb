{
  "nbformat": 4,
  "nbformat_minor": 0,
  "metadata": {
    "colab": {
      "name": "module3.ipynb",
      "provenance": [],
      "authorship_tag": "ABX9TyP/roPehus7iliZ9/mVJVK3",
      "include_colab_link": true
    },
    "kernelspec": {
      "name": "python3",
      "display_name": "Python 3"
    },
    "language_info": {
      "name": "python"
    }
  },
  "cells": [
    {
      "cell_type": "markdown",
      "metadata": {
        "id": "view-in-github",
        "colab_type": "text"
      },
      "source": [
        "<a href=\"https://colab.research.google.com/github/manognansr/ML-Practice/blob/main/module3.ipynb\" target=\"_parent\"><img src=\"https://colab.research.google.com/assets/colab-badge.svg\" alt=\"Open In Colab\"/></a>"
      ]
    },
    {
      "cell_type": "markdown",
      "metadata": {
        "id": "DABvRDWzN9qJ"
      },
      "source": [
        "Module 3a"
      ]
    },
    {
      "cell_type": "code",
      "metadata": {
        "id": "O7yxZtM2n3Xq"
      },
      "source": [
        "import numpy, pandas \n"
      ],
      "execution_count": 1,
      "outputs": []
    },
    {
      "cell_type": "code",
      "metadata": {
        "id": "C3jtClV8r0BK",
        "colab": {
          "base_uri": "https://localhost:8080/"
        },
        "outputId": "551b20a1-df0d-41fc-8448-5a083ea129ab"
      },
      "source": [
        "df = pandas.read_csv('mtcars.csv' , delimiter = ',')\n",
        "print(df)"
      ],
      "execution_count": 2,
      "outputs": [
        {
          "output_type": "stream",
          "name": "stdout",
          "text": [
            "                  model   mpg  cyl   disp   hp  ...   qsec  vs  am  gear  carb\n",
            "0             Mazda RX4  21.0    6  160.0  110  ...  16.46   0   1     4     4\n",
            "1         Mazda RX4 Wag  21.0    6  160.0  110  ...  17.02   0   1     4     4\n",
            "2            Datsun 710  22.8    4  108.0   93  ...  18.61   1   1     4     1\n",
            "3        Hornet 4 Drive  21.4    6  258.0  110  ...  19.44   1   0     3     1\n",
            "4     Hornet Sportabout  18.7    8  360.0  175  ...  17.02   0   0     3     2\n",
            "5               Valiant  18.1    6  225.0  105  ...  20.22   1   0     3     1\n",
            "6            Duster 360  14.3    8  360.0  245  ...  15.84   0   0     3     4\n",
            "7             Merc 240D  24.4    4  146.7   62  ...  20.00   1   0     4     2\n",
            "8              Merc 230  22.8    4  140.8   95  ...  22.90   1   0     4     2\n",
            "9              Merc 280  19.2    6  167.6  123  ...  18.30   1   0     4     4\n",
            "10            Merc 280C  17.8    6  167.6  123  ...  18.90   1   0     4     4\n",
            "11           Merc 450SE  16.4    8  275.8  180  ...  17.40   0   0     3     3\n",
            "12           Merc 450SL  17.3    8  275.8  180  ...  17.60   0   0     3     3\n",
            "13          Merc 450SLC  15.2    8  275.8  180  ...  18.00   0   0     3     3\n",
            "14   Cadillac Fleetwood  10.4    8  472.0  205  ...  17.98   0   0     3     4\n",
            "15  Lincoln Continental  10.4    8  460.0  215  ...  17.82   0   0     3     4\n",
            "16    Chrysler Imperial  14.7    8  440.0  230  ...  17.42   0   0     3     4\n",
            "17             Fiat 128  32.4    4   78.7   66  ...  19.47   1   1     4     1\n",
            "18          Honda Civic  30.4    4   75.7   52  ...  18.52   1   1     4     2\n",
            "19       Toyota Corolla  33.9    4   71.1   65  ...  19.90   1   1     4     1\n",
            "20        Toyota Corona  21.5    4  120.1   97  ...  20.01   1   0     3     1\n",
            "21     Dodge Challenger  15.5    8  318.0  150  ...  16.87   0   0     3     2\n",
            "22          AMC Javelin  15.2    8  304.0  150  ...  17.30   0   0     3     2\n",
            "23           Camaro Z28  13.3    8  350.0  245  ...  15.41   0   0     3     4\n",
            "24     Pontiac Firebird  19.2    8  400.0  175  ...  17.05   0   0     3     2\n",
            "25            Fiat X1-9  27.3    4   79.0   66  ...  18.90   1   1     4     1\n",
            "26        Porsche 914-2  26.0    4  120.3   91  ...  16.70   0   1     5     2\n",
            "27         Lotus Europa  30.4    4   95.1  113  ...  16.90   1   1     5     2\n",
            "28       Ford Pantera L  15.8    8  351.0  264  ...  14.50   0   1     5     4\n",
            "29         Ferrari Dino  19.7    6  145.0  175  ...  15.50   0   1     5     6\n",
            "30        Maserati Bora  15.0    8  301.0  335  ...  14.60   0   1     5     8\n",
            "31           Volvo 142E  21.4    4  121.0  109  ...  18.60   1   1     4     2\n",
            "\n",
            "[32 rows x 12 columns]\n"
          ]
        }
      ]
    },
    {
      "cell_type": "code",
      "metadata": {
        "colab": {
          "base_uri": "https://localhost:8080/"
        },
        "id": "2UQy-HjKLbiR",
        "outputId": "3c70ff91-64b5-49f5-977e-f9221a218a37"
      },
      "source": [
        "horsepower = numpy.array(df['hp'])\n",
        "print(horsepower)"
      ],
      "execution_count": 3,
      "outputs": [
        {
          "output_type": "stream",
          "name": "stdout",
          "text": [
            "[110 110  93 110 175 105 245  62  95 123 123 180 180 180 205 215 230  66\n",
            "  52  65  97 150 150 245 175  66  91 113 264 175 335 109]\n"
          ]
        }
      ]
    },
    {
      "cell_type": "code",
      "metadata": {
        "colab": {
          "base_uri": "https://localhost:8080/"
        },
        "id": "tDzCks9bLguY",
        "outputId": "f841deeb-9c19-4ae8-eb98-d332abea85c6"
      },
      "source": [
        "ty = df['hp'].dtype\n",
        "print(ty)"
      ],
      "execution_count": 4,
      "outputs": [
        {
          "output_type": "stream",
          "name": "stdout",
          "text": [
            "int64\n"
          ]
        }
      ]
    },
    {
      "cell_type": "code",
      "metadata": {
        "colab": {
          "base_uri": "https://localhost:8080/"
        },
        "id": "zwQ_RqDELw57",
        "outputId": "e0b8ddcf-3db8-4f7a-e417-5651b8fd0e14"
      },
      "source": [
        "avg = df['hp'].mean()\n",
        "print(avg)"
      ],
      "execution_count": 5,
      "outputs": [
        {
          "output_type": "stream",
          "name": "stdout",
          "text": [
            "146.6875\n"
          ]
        }
      ]
    },
    {
      "cell_type": "markdown",
      "metadata": {
        "id": "Yqc5kGq_OJza"
      },
      "source": [
        "Module 3b"
      ]
    },
    {
      "cell_type": "code",
      "metadata": {
        "id": "99PnXIOLAoSE",
        "outputId": "382477c0-abc7-4436-9692-fa6dae885314",
        "colab": {
          "base_uri": "https://localhost:8080/",
          "height": 801
        }
      },
      "source": [
        "df[['mpg','hp']].groupby(['hp']).describe()"
      ],
      "execution_count": 6,
      "outputs": [
        {
          "output_type": "execute_result",
          "data": {
            "text/html": [
              "<div>\n",
              "<style scoped>\n",
              "    .dataframe tbody tr th:only-of-type {\n",
              "        vertical-align: middle;\n",
              "    }\n",
              "\n",
              "    .dataframe tbody tr th {\n",
              "        vertical-align: top;\n",
              "    }\n",
              "\n",
              "    .dataframe thead tr th {\n",
              "        text-align: left;\n",
              "    }\n",
              "\n",
              "    .dataframe thead tr:last-of-type th {\n",
              "        text-align: right;\n",
              "    }\n",
              "</style>\n",
              "<table border=\"1\" class=\"dataframe\">\n",
              "  <thead>\n",
              "    <tr>\n",
              "      <th></th>\n",
              "      <th colspan=\"8\" halign=\"left\">mpg</th>\n",
              "    </tr>\n",
              "    <tr>\n",
              "      <th></th>\n",
              "      <th>count</th>\n",
              "      <th>mean</th>\n",
              "      <th>std</th>\n",
              "      <th>min</th>\n",
              "      <th>25%</th>\n",
              "      <th>50%</th>\n",
              "      <th>75%</th>\n",
              "      <th>max</th>\n",
              "    </tr>\n",
              "    <tr>\n",
              "      <th>hp</th>\n",
              "      <th></th>\n",
              "      <th></th>\n",
              "      <th></th>\n",
              "      <th></th>\n",
              "      <th></th>\n",
              "      <th></th>\n",
              "      <th></th>\n",
              "      <th></th>\n",
              "    </tr>\n",
              "  </thead>\n",
              "  <tbody>\n",
              "    <tr>\n",
              "      <th>52</th>\n",
              "      <td>1.0</td>\n",
              "      <td>30.400000</td>\n",
              "      <td>NaN</td>\n",
              "      <td>30.4</td>\n",
              "      <td>30.400</td>\n",
              "      <td>30.40</td>\n",
              "      <td>30.400</td>\n",
              "      <td>30.4</td>\n",
              "    </tr>\n",
              "    <tr>\n",
              "      <th>62</th>\n",
              "      <td>1.0</td>\n",
              "      <td>24.400000</td>\n",
              "      <td>NaN</td>\n",
              "      <td>24.4</td>\n",
              "      <td>24.400</td>\n",
              "      <td>24.40</td>\n",
              "      <td>24.400</td>\n",
              "      <td>24.4</td>\n",
              "    </tr>\n",
              "    <tr>\n",
              "      <th>65</th>\n",
              "      <td>1.0</td>\n",
              "      <td>33.900000</td>\n",
              "      <td>NaN</td>\n",
              "      <td>33.9</td>\n",
              "      <td>33.900</td>\n",
              "      <td>33.90</td>\n",
              "      <td>33.900</td>\n",
              "      <td>33.9</td>\n",
              "    </tr>\n",
              "    <tr>\n",
              "      <th>66</th>\n",
              "      <td>2.0</td>\n",
              "      <td>29.850000</td>\n",
              "      <td>3.606245</td>\n",
              "      <td>27.3</td>\n",
              "      <td>28.575</td>\n",
              "      <td>29.85</td>\n",
              "      <td>31.125</td>\n",
              "      <td>32.4</td>\n",
              "    </tr>\n",
              "    <tr>\n",
              "      <th>91</th>\n",
              "      <td>1.0</td>\n",
              "      <td>26.000000</td>\n",
              "      <td>NaN</td>\n",
              "      <td>26.0</td>\n",
              "      <td>26.000</td>\n",
              "      <td>26.00</td>\n",
              "      <td>26.000</td>\n",
              "      <td>26.0</td>\n",
              "    </tr>\n",
              "    <tr>\n",
              "      <th>93</th>\n",
              "      <td>1.0</td>\n",
              "      <td>22.800000</td>\n",
              "      <td>NaN</td>\n",
              "      <td>22.8</td>\n",
              "      <td>22.800</td>\n",
              "      <td>22.80</td>\n",
              "      <td>22.800</td>\n",
              "      <td>22.8</td>\n",
              "    </tr>\n",
              "    <tr>\n",
              "      <th>95</th>\n",
              "      <td>1.0</td>\n",
              "      <td>22.800000</td>\n",
              "      <td>NaN</td>\n",
              "      <td>22.8</td>\n",
              "      <td>22.800</td>\n",
              "      <td>22.80</td>\n",
              "      <td>22.800</td>\n",
              "      <td>22.8</td>\n",
              "    </tr>\n",
              "    <tr>\n",
              "      <th>97</th>\n",
              "      <td>1.0</td>\n",
              "      <td>21.500000</td>\n",
              "      <td>NaN</td>\n",
              "      <td>21.5</td>\n",
              "      <td>21.500</td>\n",
              "      <td>21.50</td>\n",
              "      <td>21.500</td>\n",
              "      <td>21.5</td>\n",
              "    </tr>\n",
              "    <tr>\n",
              "      <th>105</th>\n",
              "      <td>1.0</td>\n",
              "      <td>18.100000</td>\n",
              "      <td>NaN</td>\n",
              "      <td>18.1</td>\n",
              "      <td>18.100</td>\n",
              "      <td>18.10</td>\n",
              "      <td>18.100</td>\n",
              "      <td>18.1</td>\n",
              "    </tr>\n",
              "    <tr>\n",
              "      <th>109</th>\n",
              "      <td>1.0</td>\n",
              "      <td>21.400000</td>\n",
              "      <td>NaN</td>\n",
              "      <td>21.4</td>\n",
              "      <td>21.400</td>\n",
              "      <td>21.40</td>\n",
              "      <td>21.400</td>\n",
              "      <td>21.4</td>\n",
              "    </tr>\n",
              "    <tr>\n",
              "      <th>110</th>\n",
              "      <td>3.0</td>\n",
              "      <td>21.133333</td>\n",
              "      <td>0.230940</td>\n",
              "      <td>21.0</td>\n",
              "      <td>21.000</td>\n",
              "      <td>21.00</td>\n",
              "      <td>21.200</td>\n",
              "      <td>21.4</td>\n",
              "    </tr>\n",
              "    <tr>\n",
              "      <th>113</th>\n",
              "      <td>1.0</td>\n",
              "      <td>30.400000</td>\n",
              "      <td>NaN</td>\n",
              "      <td>30.4</td>\n",
              "      <td>30.400</td>\n",
              "      <td>30.40</td>\n",
              "      <td>30.400</td>\n",
              "      <td>30.4</td>\n",
              "    </tr>\n",
              "    <tr>\n",
              "      <th>123</th>\n",
              "      <td>2.0</td>\n",
              "      <td>18.500000</td>\n",
              "      <td>0.989949</td>\n",
              "      <td>17.8</td>\n",
              "      <td>18.150</td>\n",
              "      <td>18.50</td>\n",
              "      <td>18.850</td>\n",
              "      <td>19.2</td>\n",
              "    </tr>\n",
              "    <tr>\n",
              "      <th>150</th>\n",
              "      <td>2.0</td>\n",
              "      <td>15.350000</td>\n",
              "      <td>0.212132</td>\n",
              "      <td>15.2</td>\n",
              "      <td>15.275</td>\n",
              "      <td>15.35</td>\n",
              "      <td>15.425</td>\n",
              "      <td>15.5</td>\n",
              "    </tr>\n",
              "    <tr>\n",
              "      <th>175</th>\n",
              "      <td>3.0</td>\n",
              "      <td>19.200000</td>\n",
              "      <td>0.500000</td>\n",
              "      <td>18.7</td>\n",
              "      <td>18.950</td>\n",
              "      <td>19.20</td>\n",
              "      <td>19.450</td>\n",
              "      <td>19.7</td>\n",
              "    </tr>\n",
              "    <tr>\n",
              "      <th>180</th>\n",
              "      <td>3.0</td>\n",
              "      <td>16.300000</td>\n",
              "      <td>1.053565</td>\n",
              "      <td>15.2</td>\n",
              "      <td>15.800</td>\n",
              "      <td>16.40</td>\n",
              "      <td>16.850</td>\n",
              "      <td>17.3</td>\n",
              "    </tr>\n",
              "    <tr>\n",
              "      <th>205</th>\n",
              "      <td>1.0</td>\n",
              "      <td>10.400000</td>\n",
              "      <td>NaN</td>\n",
              "      <td>10.4</td>\n",
              "      <td>10.400</td>\n",
              "      <td>10.40</td>\n",
              "      <td>10.400</td>\n",
              "      <td>10.4</td>\n",
              "    </tr>\n",
              "    <tr>\n",
              "      <th>215</th>\n",
              "      <td>1.0</td>\n",
              "      <td>10.400000</td>\n",
              "      <td>NaN</td>\n",
              "      <td>10.4</td>\n",
              "      <td>10.400</td>\n",
              "      <td>10.40</td>\n",
              "      <td>10.400</td>\n",
              "      <td>10.4</td>\n",
              "    </tr>\n",
              "    <tr>\n",
              "      <th>230</th>\n",
              "      <td>1.0</td>\n",
              "      <td>14.700000</td>\n",
              "      <td>NaN</td>\n",
              "      <td>14.7</td>\n",
              "      <td>14.700</td>\n",
              "      <td>14.70</td>\n",
              "      <td>14.700</td>\n",
              "      <td>14.7</td>\n",
              "    </tr>\n",
              "    <tr>\n",
              "      <th>245</th>\n",
              "      <td>2.0</td>\n",
              "      <td>13.800000</td>\n",
              "      <td>0.707107</td>\n",
              "      <td>13.3</td>\n",
              "      <td>13.550</td>\n",
              "      <td>13.80</td>\n",
              "      <td>14.050</td>\n",
              "      <td>14.3</td>\n",
              "    </tr>\n",
              "    <tr>\n",
              "      <th>264</th>\n",
              "      <td>1.0</td>\n",
              "      <td>15.800000</td>\n",
              "      <td>NaN</td>\n",
              "      <td>15.8</td>\n",
              "      <td>15.800</td>\n",
              "      <td>15.80</td>\n",
              "      <td>15.800</td>\n",
              "      <td>15.8</td>\n",
              "    </tr>\n",
              "    <tr>\n",
              "      <th>335</th>\n",
              "      <td>1.0</td>\n",
              "      <td>15.000000</td>\n",
              "      <td>NaN</td>\n",
              "      <td>15.0</td>\n",
              "      <td>15.000</td>\n",
              "      <td>15.00</td>\n",
              "      <td>15.000</td>\n",
              "      <td>15.0</td>\n",
              "    </tr>\n",
              "  </tbody>\n",
              "</table>\n",
              "</div>"
            ],
            "text/plain": [
              "      mpg                                                        \n",
              "    count       mean       std   min     25%    50%     75%   max\n",
              "hp                                                               \n",
              "52    1.0  30.400000       NaN  30.4  30.400  30.40  30.400  30.4\n",
              "62    1.0  24.400000       NaN  24.4  24.400  24.40  24.400  24.4\n",
              "65    1.0  33.900000       NaN  33.9  33.900  33.90  33.900  33.9\n",
              "66    2.0  29.850000  3.606245  27.3  28.575  29.85  31.125  32.4\n",
              "91    1.0  26.000000       NaN  26.0  26.000  26.00  26.000  26.0\n",
              "93    1.0  22.800000       NaN  22.8  22.800  22.80  22.800  22.8\n",
              "95    1.0  22.800000       NaN  22.8  22.800  22.80  22.800  22.8\n",
              "97    1.0  21.500000       NaN  21.5  21.500  21.50  21.500  21.5\n",
              "105   1.0  18.100000       NaN  18.1  18.100  18.10  18.100  18.1\n",
              "109   1.0  21.400000       NaN  21.4  21.400  21.40  21.400  21.4\n",
              "110   3.0  21.133333  0.230940  21.0  21.000  21.00  21.200  21.4\n",
              "113   1.0  30.400000       NaN  30.4  30.400  30.40  30.400  30.4\n",
              "123   2.0  18.500000  0.989949  17.8  18.150  18.50  18.850  19.2\n",
              "150   2.0  15.350000  0.212132  15.2  15.275  15.35  15.425  15.5\n",
              "175   3.0  19.200000  0.500000  18.7  18.950  19.20  19.450  19.7\n",
              "180   3.0  16.300000  1.053565  15.2  15.800  16.40  16.850  17.3\n",
              "205   1.0  10.400000       NaN  10.4  10.400  10.40  10.400  10.4\n",
              "215   1.0  10.400000       NaN  10.4  10.400  10.40  10.400  10.4\n",
              "230   1.0  14.700000       NaN  14.7  14.700  14.70  14.700  14.7\n",
              "245   2.0  13.800000  0.707107  13.3  13.550  13.80  14.050  14.3\n",
              "264   1.0  15.800000       NaN  15.8  15.800  15.80  15.800  15.8\n",
              "335   1.0  15.000000       NaN  15.0  15.000  15.00  15.000  15.0"
            ]
          },
          "metadata": {},
          "execution_count": 6
        }
      ]
    },
    {
      "cell_type": "code",
      "metadata": {
        "id": "Zbgp9VYrAaf6",
        "outputId": "272fe075-f63c-4d2e-dde6-d6b49108cb8e",
        "colab": {
          "base_uri": "https://localhost:8080/"
        }
      },
      "source": [
        "df[['mpg','hp']].groupby(['hp']).describe().unstack()"
      ],
      "execution_count": 7,
      "outputs": [
        {
          "output_type": "execute_result",
          "data": {
            "text/plain": [
              "            hp \n",
              "mpg  count  52      1.0\n",
              "            62      1.0\n",
              "            65      1.0\n",
              "            66      2.0\n",
              "            91      1.0\n",
              "                   ... \n",
              "     max    215    10.4\n",
              "            230    14.7\n",
              "            245    14.3\n",
              "            264    15.8\n",
              "            335    15.0\n",
              "Length: 176, dtype: float64"
            ]
          },
          "metadata": {},
          "execution_count": 7
        }
      ]
    },
    {
      "cell_type": "code",
      "metadata": {
        "id": "uGh4YauVA99p",
        "outputId": "6404d599-1629-4c53-b45e-1996b1ed6e39",
        "colab": {
          "base_uri": "https://localhost:8080/",
          "height": 112
        }
      },
      "source": [
        "df[['mpg','hp']].corr()"
      ],
      "execution_count": 8,
      "outputs": [
        {
          "output_type": "execute_result",
          "data": {
            "text/html": [
              "<div>\n",
              "<style scoped>\n",
              "    .dataframe tbody tr th:only-of-type {\n",
              "        vertical-align: middle;\n",
              "    }\n",
              "\n",
              "    .dataframe tbody tr th {\n",
              "        vertical-align: top;\n",
              "    }\n",
              "\n",
              "    .dataframe thead th {\n",
              "        text-align: right;\n",
              "    }\n",
              "</style>\n",
              "<table border=\"1\" class=\"dataframe\">\n",
              "  <thead>\n",
              "    <tr style=\"text-align: right;\">\n",
              "      <th></th>\n",
              "      <th>mpg</th>\n",
              "      <th>hp</th>\n",
              "    </tr>\n",
              "  </thead>\n",
              "  <tbody>\n",
              "    <tr>\n",
              "      <th>mpg</th>\n",
              "      <td>1.000000</td>\n",
              "      <td>-0.776168</td>\n",
              "    </tr>\n",
              "    <tr>\n",
              "      <th>hp</th>\n",
              "      <td>-0.776168</td>\n",
              "      <td>1.000000</td>\n",
              "    </tr>\n",
              "  </tbody>\n",
              "</table>\n",
              "</div>"
            ],
            "text/plain": [
              "          mpg        hp\n",
              "mpg  1.000000 -0.776168\n",
              "hp  -0.776168  1.000000"
            ]
          },
          "metadata": {},
          "execution_count": 8
        }
      ]
    }
  ]
}