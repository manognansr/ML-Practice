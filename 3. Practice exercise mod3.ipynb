{
  "nbformat": 4,
  "nbformat_minor": 0,
  "metadata": {
    "colab": {
      "name": "Untitled2.ipynb",
      "provenance": [],
      "authorship_tag": "ABX9TyMWQJhycBCLkDNVLPrj6hZn",
      "include_colab_link": true
    },
    "kernelspec": {
      "name": "python3",
      "display_name": "Python 3"
    },
    "language_info": {
      "name": "python"
    }
  },
  "cells": [
    {
      "cell_type": "markdown",
      "metadata": {
        "id": "view-in-github",
        "colab_type": "text"
      },
      "source": [
        "<a href=\"https://colab.research.google.com/github/manognansr/ML-Practice/blob/main/3.%20Practice%20exercise.ipynb\" target=\"_parent\"><img src=\"https://colab.research.google.com/assets/colab-badge.svg\" alt=\"Open In Colab\"/></a>"
      ]
    },
    {
      "cell_type": "markdown",
      "source": [
        "concat and practice project"
      ],
      "metadata": {
        "id": "x11gm9euSZmM"
      }
    },
    {
      "cell_type": "code",
      "execution_count": 11,
      "metadata": {
        "id": "qmMLt-14STRx"
      },
      "outputs": [],
      "source": [
        "import pandas as pd\n",
        "import matplotlib.pyplot as plt\n",
        "%matplotlib inline"
      ]
    },
    {
      "cell_type": "code",
      "source": [
        "north_america = pd.read_csv('north_america_2000_2010.csv', index_col = 0)\n",
        "south_america = pd.read_csv('south_america_2000_2010.csv', index_col = 0)"
      ],
      "metadata": {
        "id": "k0EofLvaS5nh"
      },
      "execution_count": null,
      "outputs": []
    },
    {
      "cell_type": "code",
      "source": [
        "north_america "
      ],
      "metadata": {
        "colab": {
          "base_uri": "https://localhost:8080/",
          "height": 175
        },
        "id": "2c8pxo1CUGeS",
        "outputId": "df14bb2b-aa53-49f8-c5d5-bc234db473ce"
      },
      "execution_count": null,
      "outputs": [
        {
          "output_type": "execute_result",
          "data": {
            "text/html": [
              "\n",
              "  <div id=\"df-8909aa73-85b4-4ec4-bc2a-783c27375b9b\">\n",
              "    <div class=\"colab-df-container\">\n",
              "      <div>\n",
              "<style scoped>\n",
              "    .dataframe tbody tr th:only-of-type {\n",
              "        vertical-align: middle;\n",
              "    }\n",
              "\n",
              "    .dataframe tbody tr th {\n",
              "        vertical-align: top;\n",
              "    }\n",
              "\n",
              "    .dataframe thead th {\n",
              "        text-align: right;\n",
              "    }\n",
              "</style>\n",
              "<table border=\"1\" class=\"dataframe\">\n",
              "  <thead>\n",
              "    <tr style=\"text-align: right;\">\n",
              "      <th></th>\n",
              "      <th>2000</th>\n",
              "      <th>2001</th>\n",
              "      <th>2002</th>\n",
              "      <th>2003</th>\n",
              "      <th>2004</th>\n",
              "      <th>2005</th>\n",
              "      <th>2006</th>\n",
              "      <th>2007</th>\n",
              "      <th>2008</th>\n",
              "      <th>2009</th>\n",
              "      <th>2010</th>\n",
              "    </tr>\n",
              "    <tr>\n",
              "      <th>Country</th>\n",
              "      <th></th>\n",
              "      <th></th>\n",
              "      <th></th>\n",
              "      <th></th>\n",
              "      <th></th>\n",
              "      <th></th>\n",
              "      <th></th>\n",
              "      <th></th>\n",
              "      <th></th>\n",
              "      <th></th>\n",
              "      <th></th>\n",
              "    </tr>\n",
              "  </thead>\n",
              "  <tbody>\n",
              "    <tr>\n",
              "      <th>Canada</th>\n",
              "      <td>1779.0</td>\n",
              "      <td>1771.0</td>\n",
              "      <td>1754.0</td>\n",
              "      <td>1740.0</td>\n",
              "      <td>1760.0</td>\n",
              "      <td>1747</td>\n",
              "      <td>1745.0</td>\n",
              "      <td>1741.0</td>\n",
              "      <td>1735</td>\n",
              "      <td>1701.0</td>\n",
              "      <td>1703.0</td>\n",
              "    </tr>\n",
              "    <tr>\n",
              "      <th>Mexico</th>\n",
              "      <td>2311.2</td>\n",
              "      <td>2285.2</td>\n",
              "      <td>2271.2</td>\n",
              "      <td>2276.5</td>\n",
              "      <td>2270.6</td>\n",
              "      <td>2281</td>\n",
              "      <td>2280.6</td>\n",
              "      <td>2261.4</td>\n",
              "      <td>2258</td>\n",
              "      <td>2250.2</td>\n",
              "      <td>2242.4</td>\n",
              "    </tr>\n",
              "    <tr>\n",
              "      <th>USA</th>\n",
              "      <td>1836.0</td>\n",
              "      <td>1814.0</td>\n",
              "      <td>1810.0</td>\n",
              "      <td>1800.0</td>\n",
              "      <td>1802.0</td>\n",
              "      <td>1799</td>\n",
              "      <td>1800.0</td>\n",
              "      <td>1798.0</td>\n",
              "      <td>1792</td>\n",
              "      <td>1767.0</td>\n",
              "      <td>1778.0</td>\n",
              "    </tr>\n",
              "  </tbody>\n",
              "</table>\n",
              "</div>\n",
              "      <button class=\"colab-df-convert\" onclick=\"convertToInteractive('df-8909aa73-85b4-4ec4-bc2a-783c27375b9b')\"\n",
              "              title=\"Convert this dataframe to an interactive table.\"\n",
              "              style=\"display:none;\">\n",
              "        \n",
              "  <svg xmlns=\"http://www.w3.org/2000/svg\" height=\"24px\"viewBox=\"0 0 24 24\"\n",
              "       width=\"24px\">\n",
              "    <path d=\"M0 0h24v24H0V0z\" fill=\"none\"/>\n",
              "    <path d=\"M18.56 5.44l.94 2.06.94-2.06 2.06-.94-2.06-.94-.94-2.06-.94 2.06-2.06.94zm-11 1L8.5 8.5l.94-2.06 2.06-.94-2.06-.94L8.5 2.5l-.94 2.06-2.06.94zm10 10l.94 2.06.94-2.06 2.06-.94-2.06-.94-.94-2.06-.94 2.06-2.06.94z\"/><path d=\"M17.41 7.96l-1.37-1.37c-.4-.4-.92-.59-1.43-.59-.52 0-1.04.2-1.43.59L10.3 9.45l-7.72 7.72c-.78.78-.78 2.05 0 2.83L4 21.41c.39.39.9.59 1.41.59.51 0 1.02-.2 1.41-.59l7.78-7.78 2.81-2.81c.8-.78.8-2.07 0-2.86zM5.41 20L4 18.59l7.72-7.72 1.47 1.35L5.41 20z\"/>\n",
              "  </svg>\n",
              "      </button>\n",
              "      \n",
              "  <style>\n",
              "    .colab-df-container {\n",
              "      display:flex;\n",
              "      flex-wrap:wrap;\n",
              "      gap: 12px;\n",
              "    }\n",
              "\n",
              "    .colab-df-convert {\n",
              "      background-color: #E8F0FE;\n",
              "      border: none;\n",
              "      border-radius: 50%;\n",
              "      cursor: pointer;\n",
              "      display: none;\n",
              "      fill: #1967D2;\n",
              "      height: 32px;\n",
              "      padding: 0 0 0 0;\n",
              "      width: 32px;\n",
              "    }\n",
              "\n",
              "    .colab-df-convert:hover {\n",
              "      background-color: #E2EBFA;\n",
              "      box-shadow: 0px 1px 2px rgba(60, 64, 67, 0.3), 0px 1px 3px 1px rgba(60, 64, 67, 0.15);\n",
              "      fill: #174EA6;\n",
              "    }\n",
              "\n",
              "    [theme=dark] .colab-df-convert {\n",
              "      background-color: #3B4455;\n",
              "      fill: #D2E3FC;\n",
              "    }\n",
              "\n",
              "    [theme=dark] .colab-df-convert:hover {\n",
              "      background-color: #434B5C;\n",
              "      box-shadow: 0px 1px 3px 1px rgba(0, 0, 0, 0.15);\n",
              "      filter: drop-shadow(0px 1px 2px rgba(0, 0, 0, 0.3));\n",
              "      fill: #FFFFFF;\n",
              "    }\n",
              "  </style>\n",
              "\n",
              "      <script>\n",
              "        const buttonEl =\n",
              "          document.querySelector('#df-8909aa73-85b4-4ec4-bc2a-783c27375b9b button.colab-df-convert');\n",
              "        buttonEl.style.display =\n",
              "          google.colab.kernel.accessAllowed ? 'block' : 'none';\n",
              "\n",
              "        async function convertToInteractive(key) {\n",
              "          const element = document.querySelector('#df-8909aa73-85b4-4ec4-bc2a-783c27375b9b');\n",
              "          const dataTable =\n",
              "            await google.colab.kernel.invokeFunction('convertToInteractive',\n",
              "                                                     [key], {});\n",
              "          if (!dataTable) return;\n",
              "\n",
              "          const docLinkHtml = 'Like what you see? Visit the ' +\n",
              "            '<a target=\"_blank\" href=https://colab.research.google.com/notebooks/data_table.ipynb>data table notebook</a>'\n",
              "            + ' to learn more about interactive tables.';\n",
              "          element.innerHTML = '';\n",
              "          dataTable['output_type'] = 'display_data';\n",
              "          await google.colab.output.renderOutput(dataTable, element);\n",
              "          const docLink = document.createElement('div');\n",
              "          docLink.innerHTML = docLinkHtml;\n",
              "          element.appendChild(docLink);\n",
              "        }\n",
              "      </script>\n",
              "    </div>\n",
              "  </div>\n",
              "  "
            ],
            "text/plain": [
              "           2000    2001    2002    2003  ...    2007  2008    2009    2010\n",
              "Country                                  ...                              \n",
              "Canada   1779.0  1771.0  1754.0  1740.0  ...  1741.0  1735  1701.0  1703.0\n",
              "Mexico   2311.2  2285.2  2271.2  2276.5  ...  2261.4  2258  2250.2  2242.4\n",
              "USA      1836.0  1814.0  1810.0  1800.0  ...  1798.0  1792  1767.0  1778.0\n",
              "\n",
              "[3 rows x 11 columns]"
            ]
          },
          "metadata": {},
          "execution_count": 3
        }
      ]
    },
    {
      "cell_type": "code",
      "source": [
        "south_america"
      ],
      "metadata": {
        "colab": {
          "base_uri": "https://localhost:8080/",
          "height": 112
        },
        "id": "MdozioIBUNlY",
        "outputId": "c6b57873-64e5-41e8-e45b-2ed55b4d7ed3"
      },
      "execution_count": null,
      "outputs": [
        {
          "output_type": "execute_result",
          "data": {
            "text/html": [
              "\n",
              "  <div id=\"df-f1dd4785-c9ad-4ccc-b5ce-5477e71b34ca\">\n",
              "    <div class=\"colab-df-container\">\n",
              "      <div>\n",
              "<style scoped>\n",
              "    .dataframe tbody tr th:only-of-type {\n",
              "        vertical-align: middle;\n",
              "    }\n",
              "\n",
              "    .dataframe tbody tr th {\n",
              "        vertical-align: top;\n",
              "    }\n",
              "\n",
              "    .dataframe thead th {\n",
              "        text-align: right;\n",
              "    }\n",
              "</style>\n",
              "<table border=\"1\" class=\"dataframe\">\n",
              "  <thead>\n",
              "    <tr style=\"text-align: right;\">\n",
              "      <th></th>\n",
              "      <th>2000</th>\n",
              "      <th>2001</th>\n",
              "      <th>2002</th>\n",
              "      <th>2003</th>\n",
              "      <th>2004</th>\n",
              "      <th>2005</th>\n",
              "      <th>2006</th>\n",
              "      <th>2007</th>\n",
              "      <th>2008</th>\n",
              "      <th>2009</th>\n",
              "      <th>2010</th>\n",
              "    </tr>\n",
              "    <tr>\n",
              "      <th>Country</th>\n",
              "      <th></th>\n",
              "      <th></th>\n",
              "      <th></th>\n",
              "      <th></th>\n",
              "      <th></th>\n",
              "      <th></th>\n",
              "      <th></th>\n",
              "      <th></th>\n",
              "      <th></th>\n",
              "      <th></th>\n",
              "      <th></th>\n",
              "    </tr>\n",
              "  </thead>\n",
              "  <tbody>\n",
              "    <tr>\n",
              "      <th>Chile</th>\n",
              "      <td>2263</td>\n",
              "      <td>2242</td>\n",
              "      <td>2250</td>\n",
              "      <td>2235</td>\n",
              "      <td>2232</td>\n",
              "      <td>2157</td>\n",
              "      <td>2165</td>\n",
              "      <td>2128</td>\n",
              "      <td>2095</td>\n",
              "      <td>2074</td>\n",
              "      <td>2069.6</td>\n",
              "    </tr>\n",
              "  </tbody>\n",
              "</table>\n",
              "</div>\n",
              "      <button class=\"colab-df-convert\" onclick=\"convertToInteractive('df-f1dd4785-c9ad-4ccc-b5ce-5477e71b34ca')\"\n",
              "              title=\"Convert this dataframe to an interactive table.\"\n",
              "              style=\"display:none;\">\n",
              "        \n",
              "  <svg xmlns=\"http://www.w3.org/2000/svg\" height=\"24px\"viewBox=\"0 0 24 24\"\n",
              "       width=\"24px\">\n",
              "    <path d=\"M0 0h24v24H0V0z\" fill=\"none\"/>\n",
              "    <path d=\"M18.56 5.44l.94 2.06.94-2.06 2.06-.94-2.06-.94-.94-2.06-.94 2.06-2.06.94zm-11 1L8.5 8.5l.94-2.06 2.06-.94-2.06-.94L8.5 2.5l-.94 2.06-2.06.94zm10 10l.94 2.06.94-2.06 2.06-.94-2.06-.94-.94-2.06-.94 2.06-2.06.94z\"/><path d=\"M17.41 7.96l-1.37-1.37c-.4-.4-.92-.59-1.43-.59-.52 0-1.04.2-1.43.59L10.3 9.45l-7.72 7.72c-.78.78-.78 2.05 0 2.83L4 21.41c.39.39.9.59 1.41.59.51 0 1.02-.2 1.41-.59l7.78-7.78 2.81-2.81c.8-.78.8-2.07 0-2.86zM5.41 20L4 18.59l7.72-7.72 1.47 1.35L5.41 20z\"/>\n",
              "  </svg>\n",
              "      </button>\n",
              "      \n",
              "  <style>\n",
              "    .colab-df-container {\n",
              "      display:flex;\n",
              "      flex-wrap:wrap;\n",
              "      gap: 12px;\n",
              "    }\n",
              "\n",
              "    .colab-df-convert {\n",
              "      background-color: #E8F0FE;\n",
              "      border: none;\n",
              "      border-radius: 50%;\n",
              "      cursor: pointer;\n",
              "      display: none;\n",
              "      fill: #1967D2;\n",
              "      height: 32px;\n",
              "      padding: 0 0 0 0;\n",
              "      width: 32px;\n",
              "    }\n",
              "\n",
              "    .colab-df-convert:hover {\n",
              "      background-color: #E2EBFA;\n",
              "      box-shadow: 0px 1px 2px rgba(60, 64, 67, 0.3), 0px 1px 3px 1px rgba(60, 64, 67, 0.15);\n",
              "      fill: #174EA6;\n",
              "    }\n",
              "\n",
              "    [theme=dark] .colab-df-convert {\n",
              "      background-color: #3B4455;\n",
              "      fill: #D2E3FC;\n",
              "    }\n",
              "\n",
              "    [theme=dark] .colab-df-convert:hover {\n",
              "      background-color: #434B5C;\n",
              "      box-shadow: 0px 1px 3px 1px rgba(0, 0, 0, 0.15);\n",
              "      filter: drop-shadow(0px 1px 2px rgba(0, 0, 0, 0.3));\n",
              "      fill: #FFFFFF;\n",
              "    }\n",
              "  </style>\n",
              "\n",
              "      <script>\n",
              "        const buttonEl =\n",
              "          document.querySelector('#df-f1dd4785-c9ad-4ccc-b5ce-5477e71b34ca button.colab-df-convert');\n",
              "        buttonEl.style.display =\n",
              "          google.colab.kernel.accessAllowed ? 'block' : 'none';\n",
              "\n",
              "        async function convertToInteractive(key) {\n",
              "          const element = document.querySelector('#df-f1dd4785-c9ad-4ccc-b5ce-5477e71b34ca');\n",
              "          const dataTable =\n",
              "            await google.colab.kernel.invokeFunction('convertToInteractive',\n",
              "                                                     [key], {});\n",
              "          if (!dataTable) return;\n",
              "\n",
              "          const docLinkHtml = 'Like what you see? Visit the ' +\n",
              "            '<a target=\"_blank\" href=https://colab.research.google.com/notebooks/data_table.ipynb>data table notebook</a>'\n",
              "            + ' to learn more about interactive tables.';\n",
              "          element.innerHTML = '';\n",
              "          dataTable['output_type'] = 'display_data';\n",
              "          await google.colab.output.renderOutput(dataTable, element);\n",
              "          const docLink = document.createElement('div');\n",
              "          docLink.innerHTML = docLinkHtml;\n",
              "          element.appendChild(docLink);\n",
              "        }\n",
              "      </script>\n",
              "    </div>\n",
              "  </div>\n",
              "  "
            ],
            "text/plain": [
              "         2000  2001  2002  2003  2004  2005  2006  2007  2008  2009    2010\n",
              "Country                                                                    \n",
              "Chile    2263  2242  2250  2235  2232  2157  2165  2128  2095  2074  2069.6"
            ]
          },
          "metadata": {},
          "execution_count": 4
        }
      ]
    },
    {
      "cell_type": "markdown",
      "source": [
        "vertically merging dataframes"
      ],
      "metadata": {
        "id": "81e-O2HxU619"
      }
    },
    {
      "cell_type": "code",
      "source": [
        "#concatenation\n",
        "americas = pd.concat([north_america, south_america])\n",
        "americas"
      ],
      "metadata": {
        "colab": {
          "base_uri": "https://localhost:8080/",
          "height": 206
        },
        "id": "ye0Y1TlVUa_z",
        "outputId": "357e033c-af04-4aa8-f698-8ff6e070a81b"
      },
      "execution_count": null,
      "outputs": [
        {
          "output_type": "execute_result",
          "data": {
            "text/html": [
              "\n",
              "  <div id=\"df-69ba1033-3197-4349-baa4-ab2024afc5de\">\n",
              "    <div class=\"colab-df-container\">\n",
              "      <div>\n",
              "<style scoped>\n",
              "    .dataframe tbody tr th:only-of-type {\n",
              "        vertical-align: middle;\n",
              "    }\n",
              "\n",
              "    .dataframe tbody tr th {\n",
              "        vertical-align: top;\n",
              "    }\n",
              "\n",
              "    .dataframe thead th {\n",
              "        text-align: right;\n",
              "    }\n",
              "</style>\n",
              "<table border=\"1\" class=\"dataframe\">\n",
              "  <thead>\n",
              "    <tr style=\"text-align: right;\">\n",
              "      <th></th>\n",
              "      <th>2000</th>\n",
              "      <th>2001</th>\n",
              "      <th>2002</th>\n",
              "      <th>2003</th>\n",
              "      <th>2004</th>\n",
              "      <th>2005</th>\n",
              "      <th>2006</th>\n",
              "      <th>2007</th>\n",
              "      <th>2008</th>\n",
              "      <th>2009</th>\n",
              "      <th>2010</th>\n",
              "    </tr>\n",
              "    <tr>\n",
              "      <th>Country</th>\n",
              "      <th></th>\n",
              "      <th></th>\n",
              "      <th></th>\n",
              "      <th></th>\n",
              "      <th></th>\n",
              "      <th></th>\n",
              "      <th></th>\n",
              "      <th></th>\n",
              "      <th></th>\n",
              "      <th></th>\n",
              "      <th></th>\n",
              "    </tr>\n",
              "  </thead>\n",
              "  <tbody>\n",
              "    <tr>\n",
              "      <th>Canada</th>\n",
              "      <td>1779.0</td>\n",
              "      <td>1771.0</td>\n",
              "      <td>1754.0</td>\n",
              "      <td>1740.0</td>\n",
              "      <td>1760.0</td>\n",
              "      <td>1747</td>\n",
              "      <td>1745.0</td>\n",
              "      <td>1741.0</td>\n",
              "      <td>1735</td>\n",
              "      <td>1701.0</td>\n",
              "      <td>1703.0</td>\n",
              "    </tr>\n",
              "    <tr>\n",
              "      <th>Mexico</th>\n",
              "      <td>2311.2</td>\n",
              "      <td>2285.2</td>\n",
              "      <td>2271.2</td>\n",
              "      <td>2276.5</td>\n",
              "      <td>2270.6</td>\n",
              "      <td>2281</td>\n",
              "      <td>2280.6</td>\n",
              "      <td>2261.4</td>\n",
              "      <td>2258</td>\n",
              "      <td>2250.2</td>\n",
              "      <td>2242.4</td>\n",
              "    </tr>\n",
              "    <tr>\n",
              "      <th>USA</th>\n",
              "      <td>1836.0</td>\n",
              "      <td>1814.0</td>\n",
              "      <td>1810.0</td>\n",
              "      <td>1800.0</td>\n",
              "      <td>1802.0</td>\n",
              "      <td>1799</td>\n",
              "      <td>1800.0</td>\n",
              "      <td>1798.0</td>\n",
              "      <td>1792</td>\n",
              "      <td>1767.0</td>\n",
              "      <td>1778.0</td>\n",
              "    </tr>\n",
              "    <tr>\n",
              "      <th>Chile</th>\n",
              "      <td>2263.0</td>\n",
              "      <td>2242.0</td>\n",
              "      <td>2250.0</td>\n",
              "      <td>2235.0</td>\n",
              "      <td>2232.0</td>\n",
              "      <td>2157</td>\n",
              "      <td>2165.0</td>\n",
              "      <td>2128.0</td>\n",
              "      <td>2095</td>\n",
              "      <td>2074.0</td>\n",
              "      <td>2069.6</td>\n",
              "    </tr>\n",
              "  </tbody>\n",
              "</table>\n",
              "</div>\n",
              "      <button class=\"colab-df-convert\" onclick=\"convertToInteractive('df-69ba1033-3197-4349-baa4-ab2024afc5de')\"\n",
              "              title=\"Convert this dataframe to an interactive table.\"\n",
              "              style=\"display:none;\">\n",
              "        \n",
              "  <svg xmlns=\"http://www.w3.org/2000/svg\" height=\"24px\"viewBox=\"0 0 24 24\"\n",
              "       width=\"24px\">\n",
              "    <path d=\"M0 0h24v24H0V0z\" fill=\"none\"/>\n",
              "    <path d=\"M18.56 5.44l.94 2.06.94-2.06 2.06-.94-2.06-.94-.94-2.06-.94 2.06-2.06.94zm-11 1L8.5 8.5l.94-2.06 2.06-.94-2.06-.94L8.5 2.5l-.94 2.06-2.06.94zm10 10l.94 2.06.94-2.06 2.06-.94-2.06-.94-.94-2.06-.94 2.06-2.06.94z\"/><path d=\"M17.41 7.96l-1.37-1.37c-.4-.4-.92-.59-1.43-.59-.52 0-1.04.2-1.43.59L10.3 9.45l-7.72 7.72c-.78.78-.78 2.05 0 2.83L4 21.41c.39.39.9.59 1.41.59.51 0 1.02-.2 1.41-.59l7.78-7.78 2.81-2.81c.8-.78.8-2.07 0-2.86zM5.41 20L4 18.59l7.72-7.72 1.47 1.35L5.41 20z\"/>\n",
              "  </svg>\n",
              "      </button>\n",
              "      \n",
              "  <style>\n",
              "    .colab-df-container {\n",
              "      display:flex;\n",
              "      flex-wrap:wrap;\n",
              "      gap: 12px;\n",
              "    }\n",
              "\n",
              "    .colab-df-convert {\n",
              "      background-color: #E8F0FE;\n",
              "      border: none;\n",
              "      border-radius: 50%;\n",
              "      cursor: pointer;\n",
              "      display: none;\n",
              "      fill: #1967D2;\n",
              "      height: 32px;\n",
              "      padding: 0 0 0 0;\n",
              "      width: 32px;\n",
              "    }\n",
              "\n",
              "    .colab-df-convert:hover {\n",
              "      background-color: #E2EBFA;\n",
              "      box-shadow: 0px 1px 2px rgba(60, 64, 67, 0.3), 0px 1px 3px 1px rgba(60, 64, 67, 0.15);\n",
              "      fill: #174EA6;\n",
              "    }\n",
              "\n",
              "    [theme=dark] .colab-df-convert {\n",
              "      background-color: #3B4455;\n",
              "      fill: #D2E3FC;\n",
              "    }\n",
              "\n",
              "    [theme=dark] .colab-df-convert:hover {\n",
              "      background-color: #434B5C;\n",
              "      box-shadow: 0px 1px 3px 1px rgba(0, 0, 0, 0.15);\n",
              "      filter: drop-shadow(0px 1px 2px rgba(0, 0, 0, 0.3));\n",
              "      fill: #FFFFFF;\n",
              "    }\n",
              "  </style>\n",
              "\n",
              "      <script>\n",
              "        const buttonEl =\n",
              "          document.querySelector('#df-69ba1033-3197-4349-baa4-ab2024afc5de button.colab-df-convert');\n",
              "        buttonEl.style.display =\n",
              "          google.colab.kernel.accessAllowed ? 'block' : 'none';\n",
              "\n",
              "        async function convertToInteractive(key) {\n",
              "          const element = document.querySelector('#df-69ba1033-3197-4349-baa4-ab2024afc5de');\n",
              "          const dataTable =\n",
              "            await google.colab.kernel.invokeFunction('convertToInteractive',\n",
              "                                                     [key], {});\n",
              "          if (!dataTable) return;\n",
              "\n",
              "          const docLinkHtml = 'Like what you see? Visit the ' +\n",
              "            '<a target=\"_blank\" href=https://colab.research.google.com/notebooks/data_table.ipynb>data table notebook</a>'\n",
              "            + ' to learn more about interactive tables.';\n",
              "          element.innerHTML = '';\n",
              "          dataTable['output_type'] = 'display_data';\n",
              "          await google.colab.output.renderOutput(dataTable, element);\n",
              "          const docLink = document.createElement('div');\n",
              "          docLink.innerHTML = docLinkHtml;\n",
              "          element.appendChild(docLink);\n",
              "        }\n",
              "      </script>\n",
              "    </div>\n",
              "  </div>\n",
              "  "
            ],
            "text/plain": [
              "           2000    2001    2002    2003  ...    2007  2008    2009    2010\n",
              "Country                                  ...                              \n",
              "Canada   1779.0  1771.0  1754.0  1740.0  ...  1741.0  1735  1701.0  1703.0\n",
              "Mexico   2311.2  2285.2  2271.2  2276.5  ...  2261.4  2258  2250.2  2242.4\n",
              "USA      1836.0  1814.0  1810.0  1800.0  ...  1798.0  1792  1767.0  1778.0\n",
              "Chile    2263.0  2242.0  2250.0  2235.0  ...  2128.0  2095  2074.0  2069.6\n",
              "\n",
              "[4 rows x 11 columns]"
            ]
          },
          "metadata": {},
          "execution_count": 6
        }
      ]
    },
    {
      "cell_type": "markdown",
      "source": [
        "storing test results - practice project"
      ],
      "metadata": {
        "id": "NjKnQBj8YUJ8"
      }
    },
    {
      "cell_type": "markdown",
      "source": [
        "From the raw data below, create a data frame:\n",
        "\n",
        "‘first_name’: [‘Jason’, ‘Molly’, ‘Tina’, ‘Jake’, ‘Amy’], ‘last_name’: [‘Miller’, ‘Jacobson’, “.”, ‘Milner’,‘Cooze’],\n",
        "\n",
        "‘age’: [42, 52, 36, 24, 73], ‘preTestScore’: [4, 24, 31, “.”, “.”],’postTestScore’: [“25,000”, “94,000”, 57, 62, 70]"
      ],
      "metadata": {
        "id": "j36tufGQcyn4"
      }
    },
    {
      "cell_type": "code",
      "source": [
        "raw_data = {'first_name': ['Jason', 'Molly', 'Tina', 'Jake', 'Amy'], \n",
        "      'last_name': ['Miller', 'Jacobson', \".\", 'Milner','Cooze'],\n",
        "      'age': [42, 52, 36, 24, 73], \n",
        "      'preTestScore': [4, 24, 31, \".\", \".\"],\n",
        "      'postTestScore': [\"25,000\", \"94,000\", 57, 62, 70]}\n",
        "d1 = pd.DataFrame(raw_data, columns = ['first_name', 'last_name', 'age', 'preTestScore', 'postTestScore'] )\n",
        "print(d1)"
      ],
      "metadata": {
        "colab": {
          "base_uri": "https://localhost:8080/"
        },
        "id": "Y1X6DzUEYTdb",
        "outputId": "f218f970-0880-4e1f-8ea3-876bad6bb9b1"
      },
      "execution_count": 16,
      "outputs": [
        {
          "output_type": "stream",
          "name": "stdout",
          "text": [
            "  first_name last_name  age preTestScore postTestScore\n",
            "0      Jason    Miller   42            4        25,000\n",
            "1      Molly  Jacobson   52           24        94,000\n",
            "2       Tina         .   36           31            57\n",
            "3       Jake    Milner   24            .            62\n",
            "4        Amy     Cooze   73            .            70\n"
          ]
        }
      ]
    },
    {
      "cell_type": "markdown",
      "source": [
        "perform the following tasks on data\n",
        "1. Save the data frame into a .csv file as project.csv\n",
        "2. Read the project.csv file and print the data frame.\n",
        "3. Read the project.csv file without column heading.\n",
        "4. Read the project.csv file and make two index columns, namely, ‘First Name’ and ‘Last Name’.\n",
        "5. Print the data frame in a Boolean form as True or False. True for Null/ NaN values and false for non-null values.\n",
        "6. Read the data frame by skipping the first 3 rows and print the data frame."
      ],
      "metadata": {
        "id": "B6AxBNiseG6E"
      }
    },
    {
      "cell_type": "code",
      "source": [
        "#loading data to\n",
        "d1.to_csv(\"Project.csv\")"
      ],
      "metadata": {
        "id": "sBBKgB3CZOsT"
      },
      "execution_count": 17,
      "outputs": []
    },
    {
      "cell_type": "code",
      "source": [
        "#read project.csv and print dataframe\n",
        "df = pd.read_csv(\"Project.csv\")\n",
        "print(df)"
      ],
      "metadata": {
        "colab": {
          "base_uri": "https://localhost:8080/"
        },
        "id": "vv7KWeCPdz5b",
        "outputId": "3b40682f-752c-426a-cd26-c4cbea57b20d"
      },
      "execution_count": 19,
      "outputs": [
        {
          "output_type": "stream",
          "name": "stdout",
          "text": [
            "   Unnamed: 0 first_name last_name  age preTestScore postTestScore\n",
            "0           0      Jason    Miller   42            4        25,000\n",
            "1           1      Molly  Jacobson   52           24        94,000\n",
            "2           2       Tina         .   36           31            57\n",
            "3           3       Jake    Milner   24            .            62\n",
            "4           4        Amy     Cooze   73            .            70\n"
          ]
        }
      ]
    },
    {
      "cell_type": "code",
      "source": [
        "#Read the project.csv file without column heading\n",
        "df = pd.read_csv(\"Project.csv\", header = None)\n",
        "print(df)"
      ],
      "metadata": {
        "colab": {
          "base_uri": "https://localhost:8080/"
        },
        "id": "KtJ-rJghe7kD",
        "outputId": "62976150-d741-4a7a-b674-dfc9c0a5bac6"
      },
      "execution_count": 23,
      "outputs": [
        {
          "output_type": "stream",
          "name": "stdout",
          "text": [
            "     0           1          2    3             4              5\n",
            "0  NaN  first_name  last_name  age  preTestScore  postTestScore\n",
            "1  0.0       Jason     Miller   42             4         25,000\n",
            "2  1.0       Molly   Jacobson   52            24         94,000\n",
            "3  2.0        Tina          .   36            31             57\n",
            "4  3.0        Jake     Milner   24             .             62\n",
            "5  4.0         Amy      Cooze   73             .             70\n"
          ]
        }
      ]
    },
    {
      "cell_type": "code",
      "source": [
        "#Read the project.csv file and make two index columns, namely, ‘First Name’ and ‘Last Name’\n",
        "df = pd.read_csv('Project.csv', index_col=['First Name', 'Last Name'], names=['UID', 'First Name', 'Last Name', 'Age', 'Pre-Test Score', 'Post-Test Score'])\n",
        "print(df)"
      ],
      "metadata": {
        "colab": {
          "base_uri": "https://localhost:8080/"
        },
        "id": "MsN2MgTVfgcI",
        "outputId": "5978d3a0-8c4c-47fc-a189-efa7cb2dc7ad"
      },
      "execution_count": 31,
      "outputs": [
        {
          "output_type": "stream",
          "name": "stdout",
          "text": [
            "                      UID  Age Pre-Test Score Post-Test Score\n",
            "First Name Last Name                                         \n",
            "first_name last_name  NaN  age   preTestScore   postTestScore\n",
            "Jason      Miller     0.0   42              4          25,000\n",
            "Molly      Jacobson   1.0   52             24          94,000\n",
            "Tina       .          2.0   36             31              57\n",
            "Jake       Milner     3.0   24              .              62\n",
            "Amy        Cooze      4.0   73              .              70\n"
          ]
        }
      ]
    },
    {
      "cell_type": "code",
      "source": [
        "#Print the data frame in a Boolean form as True or False. True for Null/ NaN values and false for non-null values\n",
        "df = pd.read_csv('Project.csv', na_values=['.'])\n",
        "print(pd.isnull(df))"
      ],
      "metadata": {
        "colab": {
          "base_uri": "https://localhost:8080/"
        },
        "id": "DsxcsRpTiWad",
        "outputId": "f852c80f-9965-4684-e11a-da103b9499f6"
      },
      "execution_count": 33,
      "outputs": [
        {
          "output_type": "stream",
          "name": "stdout",
          "text": [
            "   Unnamed: 0  first_name  last_name    age  preTestScore  postTestScore\n",
            "0       False       False      False  False         False          False\n",
            "1       False       False      False  False         False          False\n",
            "2       False       False       True  False         False          False\n",
            "3       False       False      False  False          True          False\n",
            "4       False       False      False  False          True          False\n"
          ]
        }
      ]
    },
    {
      "cell_type": "code",
      "source": [
        "#Read the data frame by skipping the first 3 rows and print the data frame\n",
        "df = pd.read_csv('Project.csv', skiprows=3)\n",
        "print(df)"
      ],
      "metadata": {
        "colab": {
          "base_uri": "https://localhost:8080/"
        },
        "id": "IEK0zTvGioK6",
        "outputId": "911e7ca7-7f16-43ee-ae9b-b0fe231f5d5d"
      },
      "execution_count": 34,
      "outputs": [
        {
          "output_type": "stream",
          "name": "stdout",
          "text": [
            "   2  Tina       .  36 31  57\n",
            "0  3  Jake  Milner  24  .  62\n",
            "1  4   Amy   Cooze  73  .  70\n"
          ]
        }
      ]
    }
  ]
}
