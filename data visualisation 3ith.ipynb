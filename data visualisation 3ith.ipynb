{
  "nbformat": 4,
  "nbformat_minor": 0,
  "metadata": {
    "colab": {
      "name": "Untitled1.ipynb",
      "provenance": [],
      "collapsed_sections": [],
      "authorship_tag": "ABX9TyNOPWChQxPqgs39E0X4AP0w",
      "include_colab_link": true
    },
    "kernelspec": {
      "name": "python3",
      "display_name": "Python 3"
    },
    "language_info": {
      "name": "python"
    }
  },
  "cells": [
    {
      "cell_type": "markdown",
      "metadata": {
        "id": "view-in-github",
        "colab_type": "text"
      },
      "source": [
        "<a href=\"https://colab.research.google.com/github/manognansr/ML-Practice/blob/main/data%20visualisation%203ith.ipynb\" target=\"_parent\"><img src=\"https://colab.research.google.com/assets/colab-badge.svg\" alt=\"Open In Colab\"/></a>"
      ]
    },
    {
      "cell_type": "code",
      "metadata": {
        "id": "54mTSkUjqDzs"
      },
      "source": [
        "import numpy as np\n",
        "import pandas as pd\n",
        "import matplotlib.pyplot as plt\n",
        "import seaborn as sns"
      ],
      "execution_count": null,
      "outputs": []
    },
    {
      "cell_type": "code",
      "metadata": {
        "id": "oKKstO-hqG5D"
      },
      "source": [
        "import random "
      ],
      "execution_count": null,
      "outputs": []
    },
    {
      "cell_type": "code",
      "metadata": {
        "id": "V72vp21UqJrn"
      },
      "source": [
        "y = np.random.rand(100) #gives random numbers\n",
        "print(y)"
      ],
      "execution_count": null,
      "outputs": []
    },
    {
      "cell_type": "code",
      "metadata": {
        "id": "lO3_XVcaqPZp"
      },
      "source": [
        "x = np.linspace(0,10,100) #equally distanced numbers \n",
        "print(x)"
      ],
      "execution_count": null,
      "outputs": []
    },
    {
      "cell_type": "code",
      "metadata": {
        "id": "eIx3HMmPqTst"
      },
      "source": [
        "#lineplot\n",
        "plt.plot(x)\n",
        "plt.plot(y)"
      ],
      "execution_count": null,
      "outputs": []
    },
    {
      "cell_type": "code",
      "metadata": {
        "id": "GIg8Q1hUqX08"
      },
      "source": [
        "#lineplot with diff functions\n",
        "plt.plot(x,np.cos(x),color = \"purple\", marker = \"*\")\n",
        "plt.plot(x,np.sin(x),color = \"magenta\", marker = \"*\")\n",
        "#hash info will be removed with \n",
        "#plt.show()or we can use semicolon aswell\n",
        "plt.xlabel(\"sample\")\n",
        "plt.ylabel(\"sin/cos\")\n",
        "plt.title(\"linegraph\")\n",
        "#canhaveseperate plots with \n",
        "#plt.subplot(1,2,1)(numerofrows,numberofcoloumns,index)"
      ],
      "execution_count": null,
      "outputs": []
    },
    {
      "cell_type": "code",
      "metadata": {
        "id": "ORSxWj7_qb9F"
      },
      "source": [
        "cars_data = pd.read_csv('ToyotaCorolla.csv')"
      ],
      "execution_count": null,
      "outputs": []
    },
    {
      "cell_type": "code",
      "metadata": {
        "id": "1jKdjCQeqhAE"
      },
      "source": [
        "cars_data.shape"
      ],
      "execution_count": null,
      "outputs": []
    },
    {
      "cell_type": "code",
      "metadata": {
        "id": "IhaQz3l_qk6I"
      },
      "source": [
        "print(type(cars_data))"
      ],
      "execution_count": null,
      "outputs": []
    },
    {
      "cell_type": "code",
      "metadata": {
        "id": "x-rFq5o9qohh"
      },
      "source": [
        "cars_data.columns"
      ],
      "execution_count": null,
      "outputs": []
    },
    {
      "cell_type": "code",
      "metadata": {
        "id": "pGSbF4bsqsqP"
      },
      "source": [
        "cars_trim = cars_data[['Id', 'Model', 'Price', 'Age_08_04', 'Mfg_Month', 'Mfg_Year', 'KM',\n",
        "       'Fuel_Type', 'HP', 'Met_Color', 'Automatic', 'cc', 'Doors', 'Cylinders',\n",
        "       'Gears','Weight']]"
      ],
      "execution_count": null,
      "outputs": []
    },
    {
      "cell_type": "code",
      "metadata": {
        "id": "s8ynaHX-q0CH"
      },
      "source": [
        "cars_trim.shape"
      ],
      "execution_count": null,
      "outputs": []
    },
    {
      "cell_type": "code",
      "metadata": {
        "id": "CviGFvhPq1Cc"
      },
      "source": [
        "cars_trim.describe()"
      ],
      "execution_count": null,
      "outputs": []
    },
    {
      "cell_type": "code",
      "metadata": {
        "id": "46SLGwT5q1lx"
      },
      "source": [
        "#scatterplot\n",
        "plt.scatter(cars_trim.Age_08_04,cars_trim['Price'])#teo different ways of referring "
      ],
      "execution_count": null,
      "outputs": []
    },
    {
      "cell_type": "code",
      "metadata": {
        "id": "2AIz_iLdq2Ez"
      },
      "source": [
        "plt.title(\"age vs price\")\n",
        "plt.xlabel(\"age in months\")\n",
        "plt.ylabel(\"price in $\")\n",
        "plt.scatter(cars_trim.Age_08_04,cars_trim['Price'])"
      ],
      "execution_count": null,
      "outputs": []
    },
    {
      "cell_type": "code",
      "metadata": {
        "id": "n2xGXL6jrEiv"
      },
      "source": [
        "#Histograms\n",
        "min(cars_trim['Price'])\n",
        "max(cars_trim['Price'])\n",
        "plt.hist(cars_trim['Price'],bins=5)"
      ],
      "execution_count": null,
      "outputs": []
    },
    {
      "cell_type": "code",
      "metadata": {
        "id": "sarZL9DQrFKl"
      },
      "source": [
        "#barcharts\n",
        "cars_trim['Fuel_Type'].unique()"
      ],
      "execution_count": null,
      "outputs": []
    },
    {
      "cell_type": "code",
      "metadata": {
        "id": "HlOuCjuprFps"
      },
      "source": [
        "cars_trim['Fuel_Type'][cars_trim['Fuel_Type']=='Petrol'].count()"
      ],
      "execution_count": null,
      "outputs": []
    },
    {
      "cell_type": "code",
      "metadata": {
        "id": "ZjsRTVFWrSwm"
      },
      "source": [
        "#groupby \n",
        "carss = cars_trim.groupby( 'Fuel_Type' )['Fuel_Type'].count()"
      ],
      "execution_count": null,
      "outputs": []
    },
    {
      "cell_type": "code",
      "metadata": {
        "id": "TOHxCdHPrTe_"
      },
      "source": [
        "plt.bar(cars_trim['Fuel_Type'].unique(),carss[cars_trim['Fuel_Type'].unique()]);"
      ],
      "execution_count": null,
      "outputs": []
    },
    {
      "cell_type": "code",
      "metadata": {
        "id": "7iXP0saprbWQ"
      },
      "source": [
        "plt.bar(carss.keys(),carss[carss.keys()])"
      ],
      "execution_count": null,
      "outputs": []
    },
    {
      "cell_type": "code",
      "metadata": {
        "id": "5nAdRiNQrbx1"
      },
      "source": [
        "#piechart \n",
        "plt.pie(carss,labels=carss.keys(),autopct='%.2f%%')#first %.2f ctype syntax for numbrs , next%%for printing %symbol;\n"
      ],
      "execution_count": null,
      "outputs": []
    },
    {
      "cell_type": "code",
      "metadata": {
        "id": "GK6sTfMircPg"
      },
      "source": [
        "plt.pie(carss,labels=carss.keys(),autopct='%.2f%%',explode=[1,0,0],startangle = 90);"
      ],
      "execution_count": null,
      "outputs": []
    },
    {
      "cell_type": "code",
      "metadata": {
        "id": "ZyGc4z6Xrm_7"
      },
      "source": [
        "plt.pie(carss,labels=carss.keys(),autopct='%.2f%%',wedgeprops=dict(width=0.3));"
      ],
      "execution_count": null,
      "outputs": []
    },
    {
      "cell_type": "code",
      "metadata": {
        "id": "8AZ2bqgJrnZe"
      },
      "source": [
        "sns.regplot(cars_trim['Age_08_04'],cars_trim['Price']);"
      ],
      "execution_count": null,
      "outputs": []
    }
  ]
}